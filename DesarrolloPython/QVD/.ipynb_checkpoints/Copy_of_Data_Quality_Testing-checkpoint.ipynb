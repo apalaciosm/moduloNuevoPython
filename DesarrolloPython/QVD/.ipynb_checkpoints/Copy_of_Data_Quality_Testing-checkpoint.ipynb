{
 "cells": [
  {
   "cell_type": "code",
   "execution_count": 3,
   "metadata": {
    "colab": {
     "base_uri": "https://localhost:8080/"
    },
    "id": "C6nBgCSGJMep",
    "outputId": "e3a29590-690e-49cb-8c18-1b4dee9dd69b"
   },
   "outputs": [
    {
     "name": "stdout",
     "output_type": "stream",
     "text": [
      "Collecting pydeequ==1.0.1"
     ]
    },
    {
     "name": "stderr",
     "output_type": "stream",
     "text": [
      "ERROR: pip's dependency resolver does not currently take into account all the packages that are installed. This behaviour is the source of the following dependency conflicts.\n",
      "daal4py 2021.3.0 requires daal==2021.2.3, which is not installed.\n",
      "conda-repo-cli 1.0.4 requires pathlib, which is not installed.\n",
      "spyder-kernels 2.1.3 requires jupyter-client<7,>=5.3.4, but you have jupyter-client 8.0.1 which is incompatible.\n",
      "scipy 1.7.1 requires numpy<1.23.0,>=1.16.5, but you have numpy 1.24.1 which is incompatible.\n",
      "numba 0.54.1 requires numpy<1.21,>=1.17, but you have numpy 1.24.1 which is incompatible.\n",
      "cookiecutter 1.7.2 requires Jinja2<3.0.0, but you have jinja2 3.1.2 which is incompatible.\n",
      "cookiecutter 1.7.2 requires MarkupSafe<2.0.0, but you have markupsafe 2.1.2 which is incompatible.\n",
      "WARNING: Target directory C:\\QVD\\$nb_path\\dateutil already exists. Specify --upgrade to force replacement.\n",
      "WARNING: Target directory C:\\QVD\\$nb_path\\numpy already exists. Specify --upgrade to force replacement.\n",
      "WARNING: Target directory C:\\QVD\\$nb_path\\numpy-1.24.1.dist-info already exists. Specify --upgrade to force replacement.\n",
      "WARNING: Target directory C:\\QVD\\$nb_path\\pandas already exists. Specify --upgrade to force replacement.\n",
      "WARNING: Target directory C:\\QVD\\$nb_path\\pandas-1.5.3.dist-info already exists. Specify --upgrade to force replacement.\n",
      "WARNING: Target directory C:\\QVD\\$nb_path\\pydeequ already exists. Specify --upgrade to force replacement.\n",
      "WARNING: Target directory C:\\QVD\\$nb_path\\pydeequ-1.0.1.dist-info already exists. Specify --upgrade to force replacement.\n",
      "WARNING: Target directory C:\\QVD\\$nb_path\\python_dateutil-2.8.2.dist-info already exists. Specify --upgrade to force replacement.\n",
      "WARNING: Target directory C:\\QVD\\$nb_path\\pytz already exists. Specify --upgrade to force replacement.\n",
      "WARNING: Target directory C:\\QVD\\$nb_path\\pytz-2022.7.1.dist-info already exists. Specify --upgrade to force replacement.\n",
      "WARNING: Target directory C:\\QVD\\$nb_path\\six-1.16.0.dist-info already exists. Specify --upgrade to force replacement.\n",
      "WARNING: Target directory C:\\QVD\\$nb_path\\six.py already exists. Specify --upgrade to force replacement.\n",
      "WARNING: Target directory C:\\QVD\\$nb_path\\__pycache__ already exists. Specify --upgrade to force replacement.\n",
      "WARNING: Target directory C:\\QVD\\$nb_path\\bin already exists. Specify --upgrade to force replacement.\n"
     ]
    },
    {
     "name": "stdout",
     "output_type": "stream",
     "text": [
      "\n",
      "  Using cached pydeequ-1.0.1-py3-none-any.whl (36 kB)\n",
      "Collecting numpy>=1.14.1\n",
      "  Using cached numpy-1.24.1-cp39-cp39-win_amd64.whl (14.9 MB)\n",
      "Collecting pandas>=0.23.0\n",
      "  Using cached pandas-1.5.3-cp39-cp39-win_amd64.whl (10.9 MB)\n",
      "Collecting pytz>=2020.1\n",
      "  Using cached pytz-2022.7.1-py2.py3-none-any.whl (499 kB)\n",
      "Collecting python-dateutil>=2.8.1\n",
      "  Using cached python_dateutil-2.8.2-py2.py3-none-any.whl (247 kB)\n",
      "Collecting six>=1.5\n",
      "  Using cached six-1.16.0-py2.py3-none-any.whl (11 kB)\n",
      "Installing collected packages: six, pytz, python-dateutil, numpy, pandas, pydeequ\n",
      "Successfully installed numpy-1.24.1 pandas-1.5.3 pydeequ-1.0.1 python-dateutil-2.8.2 pytz-2022.7.1 six-1.16.0\n"
     ]
    }
   ],
   "source": [
    "!pip install --target=$nb_path pydeequ==1.0.1    "
   ]
  },
  {
   "cell_type": "code",
   "execution_count": 4,
   "metadata": {
    "colab": {
     "base_uri": "https://localhost:8080/"
    },
    "id": "KDQ-eq-sV5UE",
    "outputId": "2b4c6898-aab2-430f-ba0c-e98a6279c752"
   },
   "outputs": [
    {
     "name": "stdout",
     "output_type": "stream",
     "text": [
      "Collecting pyspark==3.0.3\n",
      "  Using cached pyspark-3.0.3-py2.py3-none-any.whl\n",
      "Collecting py4j==0.10.9\n",
      "  Using cached py4j-0.10.9-py2.py3-none-any.whl (198 kB)\n",
      "Installing collected packages: py4j, pyspark\n",
      "Successfully installed py4j-0.10.9 pyspark-3.0.3\n"
     ]
    },
    {
     "name": "stderr",
     "output_type": "stream",
     "text": [
      "WARNING: Target directory C:\\QVD\\$nb_path\\py4j already exists. Specify --upgrade to force replacement.\n",
      "WARNING: Target directory C:\\QVD\\$nb_path\\py4j-0.10.9.dist-info already exists. Specify --upgrade to force replacement.\n",
      "WARNING: Target directory C:\\QVD\\$nb_path\\pyspark already exists. Specify --upgrade to force replacement.\n",
      "WARNING: Target directory C:\\QVD\\$nb_path\\bin already exists. Specify --upgrade to force replacement.\n",
      "WARNING: Target directory C:\\QVD\\$nb_path\\share already exists. Specify --upgrade to force replacement.\n"
     ]
    }
   ],
   "source": [
    "!pip install --target=$nb_path pyspark==3.0.3      "
   ]
  },
  {
   "cell_type": "code",
   "execution_count": 5,
   "metadata": {
    "colab": {
     "base_uri": "https://localhost:8080/"
    },
    "id": "HhWUZRqSWJhL",
    "outputId": "6e4f2bfe-e669-4cca-a4d4-042e8dfc738d"
   },
   "outputs": [
    {
     "name": "stdout",
     "output_type": "stream",
     "text": [
      "Requirement already satisfied: qvd in c:\\users\\jpolancoh\\appdata\\roaming\\python\\python39\\site-packages (0.0.14)\n",
      "Requirement already satisfied: pandas>=1.1.4 in c:\\users\\jpolancoh\\appdata\\roaming\\python\\python39\\site-packages (from qvd) (1.5.3)\n",
      "Requirement already satisfied: pytz>=2020.1 in c:\\users\\jpolancoh\\appdata\\roaming\\python\\python39\\site-packages (from pandas>=1.1.4->qvd) (2022.7.1)\n",
      "Requirement already satisfied: python-dateutil>=2.8.1 in c:\\users\\jpolancoh\\appdata\\roaming\\python\\python39\\site-packages (from pandas>=1.1.4->qvd) (2.8.2)\n",
      "Requirement already satisfied: numpy>=1.20.3 in c:\\users\\jpolancoh\\appdata\\roaming\\python\\python39\\site-packages (from pandas>=1.1.4->qvd) (1.24.1)\n",
      "Requirement already satisfied: six>=1.5 in c:\\users\\jpolancoh\\appdata\\roaming\\python\\python39\\site-packages (from python-dateutil>=2.8.1->pandas>=1.1.4->qvd) (1.16.0)\n",
      "Note: you may need to restart the kernel to use updated packages.\n"
     ]
    }
   ],
   "source": [
    "pip install qvd"
   ]
  },
  {
   "cell_type": "code",
   "execution_count": 6,
   "metadata": {
    "colab": {
     "base_uri": "https://localhost:8080/"
    },
    "id": "4RWHIaPRVVgC",
    "outputId": "93069611-5a03-4fe0-f682-860f9625cf11"
   },
   "outputs": [
    {
     "name": "stderr",
     "output_type": "stream",
     "text": [
      "Please set env variable SPARK_VERSION\n"
     ]
    }
   ],
   "source": [
    "from pyspark.sql import SparkSession, Row\n",
    "import pydeequ\n",
    "import pandas as pd\n",
    "import re\n",
    "from qvd import qvd_reader\n",
    "from pyspark.sql.types import IntegerType\n",
    "from pydeequ.checks import *\n",
    "from pydeequ.verification import *\n",
    "import numpy as np"
   ]
  },
  {
   "cell_type": "code",
   "execution_count": null,
   "metadata": {
    "id": "aIA3ffshWNJg"
   },
   "outputs": [],
   "source": [
    "spark = (SparkSession\n",
    "    .builder\n",
    "    .appName(\"Example\") \\\n",
    "    .config(\"spark.jars.packages\", pydeequ.deequ_maven_coord)\n",
    "    .config(\"spark.jars.excludes\", pydeequ.f2j_maven_coord)\n",
    "    .config(\"spark.driver.memory\", \"16g\")\\\n",
    "    .config(\"spark.executor.memory\", \"4g\") \\\n",
    "    .getOrCreate())\n",
    "check = Check(spark, CheckLevel.Warning, \"Review Check\")"
   ]
  },
  {
   "cell_type": "code",
   "execution_count": 16,
   "metadata": {
    "id": "y2tNYvkmbTqY"
   },
   "outputs": [],
   "source": [
    "df_param = pd.read_excel(\"Parametros.xlsx\",sheet_name=\"Validaciones\")\n",
    "df_Person_Person = pd.read_csv('dbo_Person_Person.csv')\n",
    "df_address = pd.read_csv('dbo_Address.csv')"
   ]
  },
  {
   "cell_type": "code",
   "execution_count": 8,
   "metadata": {
    "colab": {
     "base_uri": "https://localhost:8080/"
    },
    "id": "N5_GxneiycCU",
    "outputId": "8d920356-d47f-4326-a9f6-54216cb9ee8a"
   },
   "outputs": [
    {
     "name": "stderr",
     "output_type": "stream",
     "text": [
      "<ipython-input-8-c6c3c1a7fadc>:7: SettingWithCopyWarning: \n",
      "A value is trying to be set on a copy of a slice from a DataFrame.\n",
      "Try using .loc[row_indexer,col_indexer] = value instead\n",
      "\n",
      "See the caveats in the documentation: https://pandas.pydata.org/pandas-docs/stable/user_guide/indexing.html#returning-a-view-versus-a-copy\n",
      "  df_param_[\"Valores\"]=df_param_[\"Valores\"].replace(\"TipoDato\", \"hasDataType\")\n",
      "<ipython-input-8-c6c3c1a7fadc>:8: SettingWithCopyWarning: \n",
      "A value is trying to be set on a copy of a slice from a DataFrame.\n",
      "Try using .loc[row_indexer,col_indexer] = value instead\n",
      "\n",
      "See the caveats in the documentation: https://pandas.pydata.org/pandas-docs/stable/user_guide/indexing.html#returning-a-view-versus-a-copy\n",
      "  df_param_[\"Valores\"]=df_param_[\"Valores\"].replace(\"MinLength\", \"hasMinLength\")\n",
      "<ipython-input-8-c6c3c1a7fadc>:9: SettingWithCopyWarning: \n",
      "A value is trying to be set on a copy of a slice from a DataFrame.\n",
      "Try using .loc[row_indexer,col_indexer] = value instead\n",
      "\n",
      "See the caveats in the documentation: https://pandas.pydata.org/pandas-docs/stable/user_guide/indexing.html#returning-a-view-versus-a-copy\n",
      "  df_param_[\"Valores\"]=df_param_[\"Valores\"].replace(\"MaxLength\", \"hasMaxLength\")\n",
      "<ipython-input-8-c6c3c1a7fadc>:10: SettingWithCopyWarning: \n",
      "A value is trying to be set on a copy of a slice from a DataFrame.\n",
      "Try using .loc[row_indexer,col_indexer] = value instead\n",
      "\n",
      "See the caveats in the documentation: https://pandas.pydata.org/pandas-docs/stable/user_guide/indexing.html#returning-a-view-versus-a-copy\n",
      "  df_param_[\"Valores\"]=df_param_[\"Valores\"].replace(\"Email\", \"containsEmail\")\n",
      "<ipython-input-8-c6c3c1a7fadc>:11: SettingWithCopyWarning: \n",
      "A value is trying to be set on a copy of a slice from a DataFrame.\n",
      "Try using .loc[row_indexer,col_indexer] = value instead\n",
      "\n",
      "See the caveats in the documentation: https://pandas.pydata.org/pandas-docs/stable/user_guide/indexing.html#returning-a-view-versus-a-copy\n",
      "  df_param_[\"Valores\"]=df_param_[\"Valores\"].replace(\"MaxNumRegistros\", \"hasSize\")\n",
      "<ipython-input-8-c6c3c1a7fadc>:12: SettingWithCopyWarning: \n",
      "A value is trying to be set on a copy of a slice from a DataFrame.\n",
      "Try using .loc[row_indexer,col_indexer] = value instead\n",
      "\n",
      "See the caveats in the documentation: https://pandas.pydata.org/pandas-docs/stable/user_guide/indexing.html#returning-a-view-versus-a-copy\n",
      "  df_param_[\"Valores\"]=df_param_[\"Valores\"].replace(\"CreditCardNumber\", \"containsCreditCardNumber\")\n",
      "<ipython-input-8-c6c3c1a7fadc>:13: SettingWithCopyWarning: \n",
      "A value is trying to be set on a copy of a slice from a DataFrame.\n",
      "Try using .loc[row_indexer,col_indexer] = value instead\n",
      "\n",
      "See the caveats in the documentation: https://pandas.pydata.org/pandas-docs/stable/user_guide/indexing.html#returning-a-view-versus-a-copy\n",
      "  df_param_[\"Valores\"]=df_param_[\"Valores\"].replace(\"URL\", \"containsURL\")\n",
      "<ipython-input-8-c6c3c1a7fadc>:14: SettingWithCopyWarning: \n",
      "A value is trying to be set on a copy of a slice from a DataFrame.\n",
      "Try using .loc[row_indexer,col_indexer] = value instead\n",
      "\n",
      "See the caveats in the documentation: https://pandas.pydata.org/pandas-docs/stable/user_guide/indexing.html#returning-a-view-versus-a-copy\n",
      "  df_param_[\"Valores\"]=df_param_[\"Valores\"].replace(\"SocialSecurityNumber\", \"containsSocialSecurityNumber\")\n"
     ]
    }
   ],
   "source": [
    "df_param_ = df_param.loc[df_param['Tipo Validacion'] == 'Formato']\n",
    "tablas = df_param_.drop_duplicates(subset=['Esquema', 'Tabla'])\n",
    "name_tablas = tablas.reset_index()\n",
    "name_tabla = name_tablas.iloc[0][\"Tabla\"]\n",
    "tablas = np.array(tablas[\"Esquema\"]+\"_\"+tablas[\"Tabla\"])\n",
    "tablas_campo = df_param_[\"Esquema\"]+\"_\"+df_param_[\"Tabla\"]+\".\"+df_param_[\"Campo\"]\n",
    "df_param_[\"Valores\"]=df_param_[\"Valores\"].replace(\"TipoDato\", \"hasDataType\")\n",
    "df_param_[\"Valores\"]=df_param_[\"Valores\"].replace(\"MinLength\", \"hasMinLength\")\n",
    "df_param_[\"Valores\"]=df_param_[\"Valores\"].replace(\"MaxLength\", \"hasMaxLength\")\n",
    "df_param_[\"Valores\"]=df_param_[\"Valores\"].replace(\"Email\", \"containsEmail\")\n",
    "df_param_[\"Valores\"]=df_param_[\"Valores\"].replace(\"MaxNumRegistros\", \"hasSize\")\n",
    "df_param_[\"Valores\"]=df_param_[\"Valores\"].replace(\"CreditCardNumber\", \"containsCreditCardNumber\")\n",
    "df_param_[\"Valores\"]=df_param_[\"Valores\"].replace(\"URL\", \"containsURL\")\n",
    "df_param_[\"Valores\"]=df_param_[\"Valores\"].replace(\"SocialSecurityNumber\", \"containsSocialSecurityNumber\")"
   ]
  },
  {
   "cell_type": "code",
   "execution_count": 9,
   "metadata": {
    "colab": {
     "base_uri": "https://localhost:8080/",
     "height": 238
    },
    "id": "NyGtCMG7H9fq",
    "outputId": "bcd0717b-799b-4cf8-94af-2eeb93fefb7a"
   },
   "outputs": [
    {
     "data": {
      "text/html": [
       "\n",
       "  <div id=\"df-79334618-b1d8-4077-a63a-1b531e791bfc\">\n",
       "    <div class=\"colab-df-container\">\n",
       "      <div>\n",
       "<style scoped>\n",
       "    .dataframe tbody tr th:only-of-type {\n",
       "        vertical-align: middle;\n",
       "    }\n",
       "\n",
       "    .dataframe tbody tr th {\n",
       "        vertical-align: top;\n",
       "    }\n",
       "\n",
       "    .dataframe thead th {\n",
       "        text-align: right;\n",
       "    }\n",
       "</style>\n",
       "<table border=\"1\" class=\"dataframe\">\n",
       "  <thead>\n",
       "    <tr style=\"text-align: right;\">\n",
       "      <th></th>\n",
       "      <th>Esquema</th>\n",
       "      <th>Tabla</th>\n",
       "      <th>Campo</th>\n",
       "      <th>Tipo Validacion</th>\n",
       "      <th>Valores</th>\n",
       "      <th>Formato</th>\n",
       "      <th>Prioridad</th>\n",
       "      <th>Dimension</th>\n",
       "      <th>Unnamed: 8</th>\n",
       "    </tr>\n",
       "  </thead>\n",
       "  <tbody>\n",
       "    <tr>\n",
       "      <th>3</th>\n",
       "      <td>dbo</td>\n",
       "      <td>Person_Person</td>\n",
       "      <td>LlaveCompuestaD</td>\n",
       "      <td>Formato</td>\n",
       "      <td>hasSize</td>\n",
       "      <td>19972.0</td>\n",
       "      <td>NaN</td>\n",
       "      <td>NaN</td>\n",
       "      <td>NaN</td>\n",
       "    </tr>\n",
       "    <tr>\n",
       "      <th>4</th>\n",
       "      <td>dbo</td>\n",
       "      <td>Person_Person</td>\n",
       "      <td>Email</td>\n",
       "      <td>Formato</td>\n",
       "      <td>containsEmail</td>\n",
       "      <td>NaN</td>\n",
       "      <td>NaN</td>\n",
       "      <td>NaN</td>\n",
       "      <td>NaN</td>\n",
       "    </tr>\n",
       "    <tr>\n",
       "      <th>5</th>\n",
       "      <td>dbo</td>\n",
       "      <td>Person_Person</td>\n",
       "      <td>Password</td>\n",
       "      <td>Formato</td>\n",
       "      <td>hasMinLength</td>\n",
       "      <td>10.0</td>\n",
       "      <td>NaN</td>\n",
       "      <td>NaN</td>\n",
       "      <td>NaN</td>\n",
       "    </tr>\n",
       "    <tr>\n",
       "      <th>6</th>\n",
       "      <td>dbo</td>\n",
       "      <td>Person_Person</td>\n",
       "      <td>Password</td>\n",
       "      <td>Formato</td>\n",
       "      <td>hasMaxLength</td>\n",
       "      <td>100.0</td>\n",
       "      <td>NaN</td>\n",
       "      <td>NaN</td>\n",
       "      <td>NaN</td>\n",
       "    </tr>\n",
       "    <tr>\n",
       "      <th>7</th>\n",
       "      <td>dbo</td>\n",
       "      <td>Address</td>\n",
       "      <td>Date</td>\n",
       "      <td>Formato</td>\n",
       "      <td>dd/mm/aaaa</td>\n",
       "      <td>NaN</td>\n",
       "      <td>NaN</td>\n",
       "      <td>NaN</td>\n",
       "      <td>NaN</td>\n",
       "    </tr>\n",
       "    <tr>\n",
       "      <th>8</th>\n",
       "      <td>dbo</td>\n",
       "      <td>Address</td>\n",
       "      <td>LlaveCompuestaD</td>\n",
       "      <td>Formato</td>\n",
       "      <td>Regex</td>\n",
       "      <td>15.0</td>\n",
       "      <td>NaN</td>\n",
       "      <td>NaN</td>\n",
       "      <td>NaN</td>\n",
       "    </tr>\n",
       "  </tbody>\n",
       "</table>\n",
       "</div>\n",
       "      <button class=\"colab-df-convert\" onclick=\"convertToInteractive('df-79334618-b1d8-4077-a63a-1b531e791bfc')\"\n",
       "              title=\"Convert this dataframe to an interactive table.\"\n",
       "              style=\"display:none;\">\n",
       "        \n",
       "  <svg xmlns=\"http://www.w3.org/2000/svg\" height=\"24px\"viewBox=\"0 0 24 24\"\n",
       "       width=\"24px\">\n",
       "    <path d=\"M0 0h24v24H0V0z\" fill=\"none\"/>\n",
       "    <path d=\"M18.56 5.44l.94 2.06.94-2.06 2.06-.94-2.06-.94-.94-2.06-.94 2.06-2.06.94zm-11 1L8.5 8.5l.94-2.06 2.06-.94-2.06-.94L8.5 2.5l-.94 2.06-2.06.94zm10 10l.94 2.06.94-2.06 2.06-.94-2.06-.94-.94-2.06-.94 2.06-2.06.94z\"/><path d=\"M17.41 7.96l-1.37-1.37c-.4-.4-.92-.59-1.43-.59-.52 0-1.04.2-1.43.59L10.3 9.45l-7.72 7.72c-.78.78-.78 2.05 0 2.83L4 21.41c.39.39.9.59 1.41.59.51 0 1.02-.2 1.41-.59l7.78-7.78 2.81-2.81c.8-.78.8-2.07 0-2.86zM5.41 20L4 18.59l7.72-7.72 1.47 1.35L5.41 20z\"/>\n",
       "  </svg>\n",
       "      </button>\n",
       "      \n",
       "  <style>\n",
       "    .colab-df-container {\n",
       "      display:flex;\n",
       "      flex-wrap:wrap;\n",
       "      gap: 12px;\n",
       "    }\n",
       "\n",
       "    .colab-df-convert {\n",
       "      background-color: #E8F0FE;\n",
       "      border: none;\n",
       "      border-radius: 50%;\n",
       "      cursor: pointer;\n",
       "      display: none;\n",
       "      fill: #1967D2;\n",
       "      height: 32px;\n",
       "      padding: 0 0 0 0;\n",
       "      width: 32px;\n",
       "    }\n",
       "\n",
       "    .colab-df-convert:hover {\n",
       "      background-color: #E2EBFA;\n",
       "      box-shadow: 0px 1px 2px rgba(60, 64, 67, 0.3), 0px 1px 3px 1px rgba(60, 64, 67, 0.15);\n",
       "      fill: #174EA6;\n",
       "    }\n",
       "\n",
       "    [theme=dark] .colab-df-convert {\n",
       "      background-color: #3B4455;\n",
       "      fill: #D2E3FC;\n",
       "    }\n",
       "\n",
       "    [theme=dark] .colab-df-convert:hover {\n",
       "      background-color: #434B5C;\n",
       "      box-shadow: 0px 1px 3px 1px rgba(0, 0, 0, 0.15);\n",
       "      filter: drop-shadow(0px 1px 2px rgba(0, 0, 0, 0.3));\n",
       "      fill: #FFFFFF;\n",
       "    }\n",
       "  </style>\n",
       "\n",
       "      <script>\n",
       "        const buttonEl =\n",
       "          document.querySelector('#df-79334618-b1d8-4077-a63a-1b531e791bfc button.colab-df-convert');\n",
       "        buttonEl.style.display =\n",
       "          google.colab.kernel.accessAllowed ? 'block' : 'none';\n",
       "\n",
       "        async function convertToInteractive(key) {\n",
       "          const element = document.querySelector('#df-79334618-b1d8-4077-a63a-1b531e791bfc');\n",
       "          const dataTable =\n",
       "            await google.colab.kernel.invokeFunction('convertToInteractive',\n",
       "                                                     [key], {});\n",
       "          if (!dataTable) return;\n",
       "\n",
       "          const docLinkHtml = 'Like what you see? Visit the ' +\n",
       "            '<a target=\"_blank\" href=https://colab.research.google.com/notebooks/data_table.ipynb>data table notebook</a>'\n",
       "            + ' to learn more about interactive tables.';\n",
       "          element.innerHTML = '';\n",
       "          dataTable['output_type'] = 'display_data';\n",
       "          await google.colab.output.renderOutput(dataTable, element);\n",
       "          const docLink = document.createElement('div');\n",
       "          docLink.innerHTML = docLinkHtml;\n",
       "          element.appendChild(docLink);\n",
       "        }\n",
       "      </script>\n",
       "    </div>\n",
       "  </div>\n",
       "  "
      ],
      "text/plain": [
       "  Esquema          Tabla            Campo Tipo Validacion        Valores  \\\n",
       "3     dbo  Person_Person  LlaveCompuestaD         Formato        hasSize   \n",
       "4     dbo  Person_Person            Email         Formato  containsEmail   \n",
       "5     dbo  Person_Person         Password         Formato   hasMinLength   \n",
       "6     dbo  Person_Person         Password         Formato   hasMaxLength   \n",
       "7     dbo        Address             Date         Formato     dd/mm/aaaa   \n",
       "8     dbo        Address  LlaveCompuestaD         Formato          Regex   \n",
       "\n",
       "   Formato  Prioridad  Dimension Unnamed: 8  \n",
       "3  19972.0        NaN        NaN        NaN  \n",
       "4      NaN        NaN        NaN        NaN  \n",
       "5     10.0        NaN        NaN        NaN  \n",
       "6    100.0        NaN        NaN        NaN  \n",
       "7      NaN        NaN        NaN        NaN  \n",
       "8     15.0        NaN        NaN        NaN  "
      ]
     },
     "execution_count": 9,
     "metadata": {},
     "output_type": "execute_result"
    }
   ],
   "source": [
    "df_param_"
   ]
  },
  {
   "cell_type": "code",
   "execution_count": 10,
   "metadata": {
    "colab": {
     "base_uri": "https://localhost:8080/",
     "height": 175
    },
    "id": "cyy-9-lsDyqF",
    "outputId": "b038439a-8e93-4c95-9398-e961344b41a0"
   },
   "outputs": [
    {
     "data": {
      "text/html": [
       "\n",
       "  <div id=\"df-13ac40f5-8859-4a03-b3fa-9643228fc844\">\n",
       "    <div class=\"colab-df-container\">\n",
       "      <div>\n",
       "<style scoped>\n",
       "    .dataframe tbody tr th:only-of-type {\n",
       "        vertical-align: middle;\n",
       "    }\n",
       "\n",
       "    .dataframe tbody tr th {\n",
       "        vertical-align: top;\n",
       "    }\n",
       "\n",
       "    .dataframe thead th {\n",
       "        text-align: right;\n",
       "    }\n",
       "</style>\n",
       "<table border=\"1\" class=\"dataframe\">\n",
       "  <thead>\n",
       "    <tr style=\"text-align: right;\">\n",
       "      <th></th>\n",
       "      <th>Esquema</th>\n",
       "      <th>Tabla</th>\n",
       "      <th>Campo</th>\n",
       "      <th>Tipo Validacion</th>\n",
       "      <th>Valores</th>\n",
       "      <th>Formato</th>\n",
       "      <th>Prioridad</th>\n",
       "      <th>Dimension</th>\n",
       "      <th>Unnamed: 8</th>\n",
       "    </tr>\n",
       "  </thead>\n",
       "  <tbody>\n",
       "    <tr>\n",
       "      <th>3</th>\n",
       "      <td>dbo</td>\n",
       "      <td>Person_Person</td>\n",
       "      <td>LlaveCompuestaD</td>\n",
       "      <td>Formato</td>\n",
       "      <td>hasSize</td>\n",
       "      <td>19972.0</td>\n",
       "      <td>NaN</td>\n",
       "      <td>NaN</td>\n",
       "      <td>NaN</td>\n",
       "    </tr>\n",
       "    <tr>\n",
       "      <th>4</th>\n",
       "      <td>dbo</td>\n",
       "      <td>Person_Person</td>\n",
       "      <td>Email</td>\n",
       "      <td>Formato</td>\n",
       "      <td>containsEmail</td>\n",
       "      <td>NaN</td>\n",
       "      <td>NaN</td>\n",
       "      <td>NaN</td>\n",
       "      <td>NaN</td>\n",
       "    </tr>\n",
       "    <tr>\n",
       "      <th>5</th>\n",
       "      <td>dbo</td>\n",
       "      <td>Person_Person</td>\n",
       "      <td>Password</td>\n",
       "      <td>Formato</td>\n",
       "      <td>hasMinLength</td>\n",
       "      <td>10.0</td>\n",
       "      <td>NaN</td>\n",
       "      <td>NaN</td>\n",
       "      <td>NaN</td>\n",
       "    </tr>\n",
       "    <tr>\n",
       "      <th>6</th>\n",
       "      <td>dbo</td>\n",
       "      <td>Person_Person</td>\n",
       "      <td>Password</td>\n",
       "      <td>Formato</td>\n",
       "      <td>hasMaxLength</td>\n",
       "      <td>100.0</td>\n",
       "      <td>NaN</td>\n",
       "      <td>NaN</td>\n",
       "      <td>NaN</td>\n",
       "    </tr>\n",
       "  </tbody>\n",
       "</table>\n",
       "</div>\n",
       "      <button class=\"colab-df-convert\" onclick=\"convertToInteractive('df-13ac40f5-8859-4a03-b3fa-9643228fc844')\"\n",
       "              title=\"Convert this dataframe to an interactive table.\"\n",
       "              style=\"display:none;\">\n",
       "        \n",
       "  <svg xmlns=\"http://www.w3.org/2000/svg\" height=\"24px\"viewBox=\"0 0 24 24\"\n",
       "       width=\"24px\">\n",
       "    <path d=\"M0 0h24v24H0V0z\" fill=\"none\"/>\n",
       "    <path d=\"M18.56 5.44l.94 2.06.94-2.06 2.06-.94-2.06-.94-.94-2.06-.94 2.06-2.06.94zm-11 1L8.5 8.5l.94-2.06 2.06-.94-2.06-.94L8.5 2.5l-.94 2.06-2.06.94zm10 10l.94 2.06.94-2.06 2.06-.94-2.06-.94-.94-2.06-.94 2.06-2.06.94z\"/><path d=\"M17.41 7.96l-1.37-1.37c-.4-.4-.92-.59-1.43-.59-.52 0-1.04.2-1.43.59L10.3 9.45l-7.72 7.72c-.78.78-.78 2.05 0 2.83L4 21.41c.39.39.9.59 1.41.59.51 0 1.02-.2 1.41-.59l7.78-7.78 2.81-2.81c.8-.78.8-2.07 0-2.86zM5.41 20L4 18.59l7.72-7.72 1.47 1.35L5.41 20z\"/>\n",
       "  </svg>\n",
       "      </button>\n",
       "      \n",
       "  <style>\n",
       "    .colab-df-container {\n",
       "      display:flex;\n",
       "      flex-wrap:wrap;\n",
       "      gap: 12px;\n",
       "    }\n",
       "\n",
       "    .colab-df-convert {\n",
       "      background-color: #E8F0FE;\n",
       "      border: none;\n",
       "      border-radius: 50%;\n",
       "      cursor: pointer;\n",
       "      display: none;\n",
       "      fill: #1967D2;\n",
       "      height: 32px;\n",
       "      padding: 0 0 0 0;\n",
       "      width: 32px;\n",
       "    }\n",
       "\n",
       "    .colab-df-convert:hover {\n",
       "      background-color: #E2EBFA;\n",
       "      box-shadow: 0px 1px 2px rgba(60, 64, 67, 0.3), 0px 1px 3px 1px rgba(60, 64, 67, 0.15);\n",
       "      fill: #174EA6;\n",
       "    }\n",
       "\n",
       "    [theme=dark] .colab-df-convert {\n",
       "      background-color: #3B4455;\n",
       "      fill: #D2E3FC;\n",
       "    }\n",
       "\n",
       "    [theme=dark] .colab-df-convert:hover {\n",
       "      background-color: #434B5C;\n",
       "      box-shadow: 0px 1px 3px 1px rgba(0, 0, 0, 0.15);\n",
       "      filter: drop-shadow(0px 1px 2px rgba(0, 0, 0, 0.3));\n",
       "      fill: #FFFFFF;\n",
       "    }\n",
       "  </style>\n",
       "\n",
       "      <script>\n",
       "        const buttonEl =\n",
       "          document.querySelector('#df-13ac40f5-8859-4a03-b3fa-9643228fc844 button.colab-df-convert');\n",
       "        buttonEl.style.display =\n",
       "          google.colab.kernel.accessAllowed ? 'block' : 'none';\n",
       "\n",
       "        async function convertToInteractive(key) {\n",
       "          const element = document.querySelector('#df-13ac40f5-8859-4a03-b3fa-9643228fc844');\n",
       "          const dataTable =\n",
       "            await google.colab.kernel.invokeFunction('convertToInteractive',\n",
       "                                                     [key], {});\n",
       "          if (!dataTable) return;\n",
       "\n",
       "          const docLinkHtml = 'Like what you see? Visit the ' +\n",
       "            '<a target=\"_blank\" href=https://colab.research.google.com/notebooks/data_table.ipynb>data table notebook</a>'\n",
       "            + ' to learn more about interactive tables.';\n",
       "          element.innerHTML = '';\n",
       "          dataTable['output_type'] = 'display_data';\n",
       "          await google.colab.output.renderOutput(dataTable, element);\n",
       "          const docLink = document.createElement('div');\n",
       "          docLink.innerHTML = docLinkHtml;\n",
       "          element.appendChild(docLink);\n",
       "        }\n",
       "      </script>\n",
       "    </div>\n",
       "  </div>\n",
       "  "
      ],
      "text/plain": [
       "  Esquema          Tabla            Campo Tipo Validacion        Valores  \\\n",
       "3     dbo  Person_Person  LlaveCompuestaD         Formato        hasSize   \n",
       "4     dbo  Person_Person            Email         Formato  containsEmail   \n",
       "5     dbo  Person_Person         Password         Formato   hasMinLength   \n",
       "6     dbo  Person_Person         Password         Formato   hasMaxLength   \n",
       "\n",
       "   Formato  Prioridad  Dimension Unnamed: 8  \n",
       "3  19972.0        NaN        NaN        NaN  \n",
       "4      NaN        NaN        NaN        NaN  \n",
       "5     10.0        NaN        NaN        NaN  \n",
       "6    100.0        NaN        NaN        NaN  "
      ]
     },
     "execution_count": 10,
     "metadata": {},
     "output_type": "execute_result"
    }
   ],
   "source": [
    "df_param_ = df_param_.loc[df_param_['Tabla'] == name_tabla]\n",
    "df_param_"
   ]
  },
  {
   "cell_type": "code",
   "execution_count": 12,
   "metadata": {
    "id": "uD4EmFbF0-0Y"
   },
   "outputs": [],
   "source": [
    "#data = {}\n",
    "data = pd.read_csv(tablas[0]+'.csv')"
   ]
  },
  {
   "cell_type": "code",
   "execution_count": 13,
   "metadata": {
    "colab": {
     "base_uri": "https://localhost:8080/"
    },
    "id": "NPa9NAsNYA8p",
    "outputId": "bbae66d8-782f-45b6-864d-3ddfd2b4addd"
   },
   "outputs": [
    {
     "name": "stderr",
     "output_type": "stream",
     "text": [
      "/usr/local/lib/python3.8/dist-packages/pydeequ/pandas_utils.py:26: UserWarning: WARNING: You passed in a Pandas DF, so we will be using our experimental utility to convert it to a PySpark DF.\n",
      "  warnings.warn(\n"
     ]
    },
    {
     "name": "stdout",
     "output_type": "stream",
     "text": [
      "Python Callback server started!\n"
     ]
    },
    {
     "name": "stderr",
     "output_type": "stream",
     "text": [
      "ERROR:py4j.java_gateway:There was an exception while executing the Python Proxy on the Python Side.\n",
      "Traceback (most recent call last):\n",
      "  File \"/usr/local/lib/python3.8/dist-packages/py4j/java_gateway.py\", line 2444, in _call_proxy\n",
      "    get_command_part(return_value, self.pool)\n",
      "  File \"/usr/local/lib/python3.8/dist-packages/py4j/protocol.py\", line 298, in get_command_part\n",
      "    command_part = REFERENCE_TYPE + parameter._get_object_id()\n",
      "AttributeError: 'numpy.bool_' object has no attribute '_get_object_id'\n",
      "ERROR:py4j.java_gateway:There was an exception while executing the Python Proxy on the Python Side.\n",
      "Traceback (most recent call last):\n",
      "  File \"/usr/local/lib/python3.8/dist-packages/py4j/java_gateway.py\", line 2444, in _call_proxy\n",
      "    get_command_part(return_value, self.pool)\n",
      "  File \"/usr/local/lib/python3.8/dist-packages/py4j/protocol.py\", line 298, in get_command_part\n",
      "    command_part = REFERENCE_TYPE + parameter._get_object_id()\n",
      "AttributeError: 'numpy.bool_' object has no attribute '_get_object_id'\n"
     ]
    }
   ],
   "source": [
    "result_df = {}\n",
    "result_df_ = pd.DataFrame()\n",
    "for i in range(len(df_param_)):\n",
    "\n",
    "  if df_param_.iloc[i][\"Valores\"] == 'hasMaxLength':\n",
    "    check_ = Check(spark, CheckLevel.Warning, \"hasMaxLength\").hasMaxLength(df_param_.iloc[i][\"Campo\"],lambda x: x == df_param_.iloc[i][\"Formato\"])\n",
    "    result_ = VerificationSuite(spark).onData(data).addCheck(check_).run()\n",
    "    result_df[i] = VerificationResult.checkResultsAsDataFrame(spark, result_, pandas=True)\n",
    "\n",
    "  elif df_param_.iloc[i][\"Valores\"] == 'hasMinLength':\n",
    "    check_ = Check(spark, CheckLevel.Warning, \"hasMinLength\").hasMinLength(df_param_.iloc[i][\"Campo\"],lambda x: x == df_param_.iloc[i][\"Formato\"])\n",
    "    result_ = VerificationSuite(spark).onData(data).addCheck(check_).run()\n",
    "    result_df[i] = VerificationResult.checkResultsAsDataFrame(spark, result_, pandas=True)\n",
    "\n",
    "  elif df_param_.iloc[i][\"Valores\"] == 'containsEmail':\n",
    "    check_ = Check(spark, CheckLevel.Warning, \"containsEmail\").containsEmail(df_param_.iloc[i][\"Campo\"])\n",
    "    result_ = VerificationSuite(spark).onData(data).addCheck(check_).run()\n",
    "    result_df[i] = VerificationResult.checkResultsAsDataFrame(spark, result_, pandas=True)\n",
    "\n",
    "  elif df_param_.iloc[i][\"Valores\"] == 'containsURL':\n",
    "    check_ = Check(spark, CheckLevel.Warning, \"containsURL\").containsURL(df_param_.iloc[i][\"Campo\"])\n",
    "    result_ = VerificationSuite(spark).onData(data).addCheck(check_).run()\n",
    "    result_df[i] = VerificationResult.checkResultsAsDataFrame(spark, result_, pandas=True)\n",
    "\n",
    "  #elif df_param_.iloc[i][\"Valores\"] == 'hasSize':\n",
    "    #check_ = Check(spark, CheckLevel.Warning, \"hasSize\").hasSize(df_param_.iloc[i][\"Campo\"], lambda x: x <= df_param_.iloc[i][\"Formato\"])\n",
    "    #result_ = VerificationSuite(spark).onData(data).addCheck(check_).run()\n",
    "    #result_df[i] = VerificationResult.checkResultsAsDataFrame(spark, result_, pandas=True)\n",
    "\n",
    "  #elif df_param_.iloc[i][\"Valores\"] == 'hasDataType':\n",
    "    #check_ = Check(spark, CheckLevel.Warning, \"hasDataType\").hasDataType(df_param_.iloc[i][\"Campo\"], df_param_.iloc[i][\"Formato\"])\n",
    "    #result_ = VerificationSuite(spark).onData(data).addCheck(check_).run()\n",
    "    #result_df[i] = VerificationResult.checkResultsAsDataFrame(spark, result_)\n",
    "\n",
    "  elif df_param_.iloc[i][\"Valores\"] == 'containsCreditCardNumber':\n",
    "    check_ = Check(spark, CheckLevel.Warning, \"containsCreditCardNumber\").containsCreditCardNumber(df_param_.iloc[i][\"Campo\"])\n",
    "    result_ = VerificationSuite(spark).onData(data).addCheck(check_).run()\n",
    "    result_df[i] = VerificationResult.checkResultsAsDataFrame(spark, result_, pandas=True)\n",
    "\n",
    "  elif df_param_.iloc[i][\"Valores\"] == 'containsSocialSecurityNumber':\n",
    "    check_ = Check(spark, CheckLevel.Warning, \"containsSocialSecurityNumber\").containsSocialSecurityNumber(df_param_.iloc[i][\"Campo\"])\n",
    "    result_ = VerificationSuite(spark).onData(data).addCheck(check_).run()\n",
    "    result_df[i] = VerificationResult.checkResultsAsDataFrame(spark, result_, pandas=True)"
   ]
  },
  {
   "cell_type": "code",
   "execution_count": 14,
   "metadata": {
    "colab": {
     "base_uri": "https://localhost:8080/",
     "height": 750
    },
    "id": "dy45D6eU00-M",
    "outputId": "1c6ad307-8b04-4b9e-c5f2-f74e8e34edbe"
   },
   "outputs": [
    {
     "data": {
      "text/html": [
       "\n",
       "  <div id=\"df-c175fc3a-f1ef-4771-840b-3d0679e35813\">\n",
       "    <div class=\"colab-df-container\">\n",
       "      <div>\n",
       "<style scoped>\n",
       "    .dataframe tbody tr th:only-of-type {\n",
       "        vertical-align: middle;\n",
       "    }\n",
       "\n",
       "    .dataframe tbody tr th {\n",
       "        vertical-align: top;\n",
       "    }\n",
       "\n",
       "    .dataframe thead th {\n",
       "        text-align: right;\n",
       "    }\n",
       "</style>\n",
       "<table border=\"1\" class=\"dataframe\">\n",
       "  <thead>\n",
       "    <tr style=\"text-align: right;\">\n",
       "      <th></th>\n",
       "      <th></th>\n",
       "      <th>check</th>\n",
       "      <th>check_level</th>\n",
       "      <th>check_status</th>\n",
       "      <th>constraint</th>\n",
       "      <th>constraint_status</th>\n",
       "      <th>constraint_message</th>\n",
       "    </tr>\n",
       "  </thead>\n",
       "  <tbody>\n",
       "    <tr>\n",
       "      <th>1</th>\n",
       "      <th>0</th>\n",
       "      <td>containsEmail</td>\n",
       "      <td>Warning</td>\n",
       "      <td>Success</td>\n",
       "      <td>containsEmail(Email)</td>\n",
       "      <td>Success</td>\n",
       "      <td></td>\n",
       "    </tr>\n",
       "    <tr>\n",
       "      <th>2</th>\n",
       "      <th>0</th>\n",
       "      <td>hasMinLength</td>\n",
       "      <td>Warning</td>\n",
       "      <td>Warning</td>\n",
       "      <td>MinLengthConstraint(MinLength(Password,None))</td>\n",
       "      <td>Failure</td>\n",
       "      <td>Can't execute the assertion: An exception was ...</td>\n",
       "    </tr>\n",
       "    <tr>\n",
       "      <th>3</th>\n",
       "      <th>0</th>\n",
       "      <td>hasMaxLength</td>\n",
       "      <td>Warning</td>\n",
       "      <td>Warning</td>\n",
       "      <td>MaxLengthConstraint(MaxLength(Password,None))</td>\n",
       "      <td>Failure</td>\n",
       "      <td>Can't execute the assertion: An exception was ...</td>\n",
       "    </tr>\n",
       "  </tbody>\n",
       "</table>\n",
       "</div>\n",
       "      <button class=\"colab-df-convert\" onclick=\"convertToInteractive('df-c175fc3a-f1ef-4771-840b-3d0679e35813')\"\n",
       "              title=\"Convert this dataframe to an interactive table.\"\n",
       "              style=\"display:none;\">\n",
       "        \n",
       "  <svg xmlns=\"http://www.w3.org/2000/svg\" height=\"24px\"viewBox=\"0 0 24 24\"\n",
       "       width=\"24px\">\n",
       "    <path d=\"M0 0h24v24H0V0z\" fill=\"none\"/>\n",
       "    <path d=\"M18.56 5.44l.94 2.06.94-2.06 2.06-.94-2.06-.94-.94-2.06-.94 2.06-2.06.94zm-11 1L8.5 8.5l.94-2.06 2.06-.94-2.06-.94L8.5 2.5l-.94 2.06-2.06.94zm10 10l.94 2.06.94-2.06 2.06-.94-2.06-.94-.94-2.06-.94 2.06-2.06.94z\"/><path d=\"M17.41 7.96l-1.37-1.37c-.4-.4-.92-.59-1.43-.59-.52 0-1.04.2-1.43.59L10.3 9.45l-7.72 7.72c-.78.78-.78 2.05 0 2.83L4 21.41c.39.39.9.59 1.41.59.51 0 1.02-.2 1.41-.59l7.78-7.78 2.81-2.81c.8-.78.8-2.07 0-2.86zM5.41 20L4 18.59l7.72-7.72 1.47 1.35L5.41 20z\"/>\n",
       "  </svg>\n",
       "      </button>\n",
       "      \n",
       "  <style>\n",
       "    .colab-df-container {\n",
       "      display:flex;\n",
       "      flex-wrap:wrap;\n",
       "      gap: 12px;\n",
       "    }\n",
       "\n",
       "    .colab-df-convert {\n",
       "      background-color: #E8F0FE;\n",
       "      border: none;\n",
       "      border-radius: 50%;\n",
       "      cursor: pointer;\n",
       "      display: none;\n",
       "      fill: #1967D2;\n",
       "      height: 32px;\n",
       "      padding: 0 0 0 0;\n",
       "      width: 32px;\n",
       "    }\n",
       "\n",
       "    .colab-df-convert:hover {\n",
       "      background-color: #E2EBFA;\n",
       "      box-shadow: 0px 1px 2px rgba(60, 64, 67, 0.3), 0px 1px 3px 1px rgba(60, 64, 67, 0.15);\n",
       "      fill: #174EA6;\n",
       "    }\n",
       "\n",
       "    [theme=dark] .colab-df-convert {\n",
       "      background-color: #3B4455;\n",
       "      fill: #D2E3FC;\n",
       "    }\n",
       "\n",
       "    [theme=dark] .colab-df-convert:hover {\n",
       "      background-color: #434B5C;\n",
       "      box-shadow: 0px 1px 3px 1px rgba(0, 0, 0, 0.15);\n",
       "      filter: drop-shadow(0px 1px 2px rgba(0, 0, 0, 0.3));\n",
       "      fill: #FFFFFF;\n",
       "    }\n",
       "  </style>\n",
       "\n",
       "      <script>\n",
       "        const buttonEl =\n",
       "          document.querySelector('#df-c175fc3a-f1ef-4771-840b-3d0679e35813 button.colab-df-convert');\n",
       "        buttonEl.style.display =\n",
       "          google.colab.kernel.accessAllowed ? 'block' : 'none';\n",
       "\n",
       "        async function convertToInteractive(key) {\n",
       "          const element = document.querySelector('#df-c175fc3a-f1ef-4771-840b-3d0679e35813');\n",
       "          const dataTable =\n",
       "            await google.colab.kernel.invokeFunction('convertToInteractive',\n",
       "                                                     [key], {});\n",
       "          if (!dataTable) return;\n",
       "\n",
       "          const docLinkHtml = 'Like what you see? Visit the ' +\n",
       "            '<a target=\"_blank\" href=https://colab.research.google.com/notebooks/data_table.ipynb>data table notebook</a>'\n",
       "            + ' to learn more about interactive tables.';\n",
       "          element.innerHTML = '';\n",
       "          dataTable['output_type'] = 'display_data';\n",
       "          await google.colab.output.renderOutput(dataTable, element);\n",
       "          const docLink = document.createElement('div');\n",
       "          docLink.innerHTML = docLinkHtml;\n",
       "          element.appendChild(docLink);\n",
       "        }\n",
       "      </script>\n",
       "    </div>\n",
       "  </div>\n",
       "  "
      ],
      "text/plain": [
       "             check check_level check_status  \\\n",
       "1 0  containsEmail     Warning      Success   \n",
       "2 0   hasMinLength     Warning      Warning   \n",
       "3 0   hasMaxLength     Warning      Warning   \n",
       "\n",
       "                                        constraint constraint_status  \\\n",
       "1 0                           containsEmail(Email)           Success   \n",
       "2 0  MinLengthConstraint(MinLength(Password,None))           Failure   \n",
       "3 0  MaxLengthConstraint(MaxLength(Password,None))           Failure   \n",
       "\n",
       "                                    constraint_message  \n",
       "1 0                                                     \n",
       "2 0  Can't execute the assertion: An exception was ...  \n",
       "3 0  Can't execute the assertion: An exception was ...  "
      ]
     },
     "execution_count": 14,
     "metadata": {},
     "output_type": "execute_result"
    }
   ],
   "source": [
    "result_df_= pd.concat(result_df)\n",
    "result_df_"
   ]
  },
  {
   "cell_type": "code",
   "execution_count": 17,
   "metadata": {
    "colab": {
     "base_uri": "https://localhost:8080/"
    },
    "id": "yEDL3XDAPEPs",
    "outputId": "29c7ed4c-cea4-4193-f36d-d970251f6268"
   },
   "outputs": [
    {
     "name": "stdout",
     "output_type": "stream",
     "text": [
      "Longest length is:\n",
      " 15\n"
     ]
    }
   ],
   "source": [
    "\n",
    "print(\"Longest length is:\\n\",df_Person_Person.Password.str.len().max())"
   ]
  },
  {
   "cell_type": "code",
   "execution_count": 18,
   "metadata": {
    "colab": {
     "base_uri": "https://localhost:8080/"
    },
    "id": "oUYMVw3CRRrc",
    "outputId": "f394836f-a35f-4fde-c77c-aaea7c6ad911"
   },
   "outputs": [
    {
     "name": "stdout",
     "output_type": "stream",
     "text": [
      "shortes length is:\n",
      " 8\n"
     ]
    }
   ],
   "source": [
    "\n",
    "print(\"shortes length is:\\n\",df_Person_Person.Password.str.len().min())"
   ]
  },
  {
   "cell_type": "code",
   "execution_count": null,
   "metadata": {
    "id": "TXsyyIOv8YKm"
   },
   "outputs": [],
   "source": [
    "data.Email[0] = '333@333.com'\n",
    "data.Email[1] = '333@333.333 '\n",
    "data.Email[2] = 'jonatan@gmail.com'"
   ]
  },
  {
   "cell_type": "code",
   "execution_count": null,
   "metadata": {
    "id": "QvHm8MH8ctkw"
   },
   "outputs": [],
   "source": [
    "data.Email"
   ]
  }
 ],
 "metadata": {
  "colab": {
   "provenance": []
  },
  "kernelspec": {
   "display_name": "Python 3 (ipykernel)",
   "language": "python",
   "name": "python3"
  },
  "language_info": {
   "codemirror_mode": {
    "name": "ipython",
    "version": 3
   },
   "file_extension": ".py",
   "mimetype": "text/x-python",
   "name": "python",
   "nbconvert_exporter": "python",
   "pygments_lexer": "ipython3",
   "version": "3.9.7"
  }
 },
 "nbformat": 4,
 "nbformat_minor": 1
}

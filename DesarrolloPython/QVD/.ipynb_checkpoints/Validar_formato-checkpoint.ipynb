{
 "cells": [
  {
   "cell_type": "markdown",
   "metadata": {},
   "source": [
    "----------Librerias utilizadas----------    "
   ]
  },
  {
   "cell_type": "code",
   "execution_count": null,
   "metadata": {},
   "outputs": [],
   "source": [
    "!pip install qvd"
   ]
  },
  {
   "cell_type": "code",
   "execution_count": 1,
   "metadata": {},
   "outputs": [
    {
     "ename": "ModuleNotFoundError",
     "evalue": "No module named 'qvd'",
     "output_type": "error",
     "traceback": [
      "\u001b[1;31m---------------------------------------------------------------------------\u001b[0m",
      "\u001b[1;31mModuleNotFoundError\u001b[0m                       Traceback (most recent call last)",
      "Cell \u001b[1;32mIn[1], line 3\u001b[0m\n\u001b[0;32m      1\u001b[0m \u001b[38;5;28;01mimport\u001b[39;00m \u001b[38;5;21;01mre\u001b[39;00m\n\u001b[0;32m      2\u001b[0m \u001b[38;5;28;01mimport\u001b[39;00m \u001b[38;5;21;01mpandas\u001b[39;00m \u001b[38;5;28;01mas\u001b[39;00m \u001b[38;5;21;01mpd\u001b[39;00m\n\u001b[1;32m----> 3\u001b[0m \u001b[38;5;28;01mfrom\u001b[39;00m \u001b[38;5;21;01mqvd\u001b[39;00m \u001b[38;5;28;01mimport\u001b[39;00m qvd_reader\n",
      "\u001b[1;31mModuleNotFoundError\u001b[0m: No module named 'qvd'"
     ]
    }
   ],
   "source": [
    "import re\n",
    "import pandas as pd\n",
    "from qvd import qvd_reader"
   ]
  },
  {
   "cell_type": "markdown",
   "metadata": {},
   "source": [
    "----------lectura y filtro del excel. Pasa al dfDatos----------"
   ]
  },
  {
   "cell_type": "code",
   "execution_count": 2,
   "metadata": {},
   "outputs": [
    {
     "data": {
      "text/html": [
       "<div>\n",
       "<style scoped>\n",
       "    .dataframe tbody tr th:only-of-type {\n",
       "        vertical-align: middle;\n",
       "    }\n",
       "\n",
       "    .dataframe tbody tr th {\n",
       "        vertical-align: top;\n",
       "    }\n",
       "\n",
       "    .dataframe thead th {\n",
       "        text-align: right;\n",
       "    }\n",
       "</style>\n",
       "<table border=\"1\" class=\"dataframe\">\n",
       "  <thead>\n",
       "    <tr style=\"text-align: right;\">\n",
       "      <th></th>\n",
       "      <th>Esquema</th>\n",
       "      <th>Tabla</th>\n",
       "      <th>Campo</th>\n",
       "      <th>Tipo Validacion</th>\n",
       "      <th>Valores</th>\n",
       "      <th>Prioridad</th>\n",
       "      <th>Dimension</th>\n",
       "      <th>Unnamed: 7</th>\n",
       "      <th>Unnamed: 8</th>\n",
       "      <th>Unnamed: 9</th>\n",
       "      <th>Unnamed: 10</th>\n",
       "    </tr>\n",
       "  </thead>\n",
       "  <tbody>\n",
       "    <tr>\n",
       "      <th>3</th>\n",
       "      <td>dbo</td>\n",
       "      <td>OrderDetail</td>\n",
       "      <td>CarrierTrackingNumber</td>\n",
       "      <td>Formato</td>\n",
       "      <td>^\\w{4}-\\w{4}-\\w{2}$</td>\n",
       "      <td>NaN</td>\n",
       "      <td>NaN</td>\n",
       "      <td>NaN</td>\n",
       "      <td>NaN</td>\n",
       "      <td>NaN</td>\n",
       "      <td>NaN</td>\n",
       "    </tr>\n",
       "  </tbody>\n",
       "</table>\n",
       "</div>"
      ],
      "text/plain": [
       "  Esquema        Tabla                  Campo Tipo Validacion  \\\n",
       "3     dbo  OrderDetail  CarrierTrackingNumber         Formato   \n",
       "\n",
       "               Valores  Prioridad  Dimension  Unnamed: 7  Unnamed: 8  \\\n",
       "3  ^\\w{4}-\\w{4}-\\w{2}$        NaN        NaN         NaN         NaN   \n",
       "\n",
       "   Unnamed: 9 Unnamed: 10  \n",
       "3         NaN         NaN  "
      ]
     },
     "execution_count": 2,
     "metadata": {},
     "output_type": "execute_result"
    }
   ],
   "source": [
    "ruta = \"./Parametros1.xlsx\"\n",
    "# Variable de la ruta relativa.\n",
    "dfxls = pd.read_excel(ruta, sheet_name=\"Validaciones\")\n",
    "# Asignación de la hoja de excel Validaciones a un df\n",
    "dfDatos = dfxls[dfxls[\"Tipo Validacion\"].isin([\"Formato\"])]\n",
    "# Se filtra por el tipo de validación Formato\n",
    "dfDatos.head()"
   ]
  },
  {
   "cell_type": "markdown",
   "metadata": {},
   "source": [
    "----------Creacion de rutas que se usan en el codigo----------"
   ]
  },
  {
   "cell_type": "code",
   "execution_count": 3,
   "metadata": {},
   "outputs": [
    {
     "data": {
      "text/html": [
       "<div>\n",
       "<style scoped>\n",
       "    .dataframe tbody tr th:only-of-type {\n",
       "        vertical-align: middle;\n",
       "    }\n",
       "\n",
       "    .dataframe tbody tr th {\n",
       "        vertical-align: top;\n",
       "    }\n",
       "\n",
       "    .dataframe thead th {\n",
       "        text-align: right;\n",
       "    }\n",
       "</style>\n",
       "<table border=\"1\" class=\"dataframe\">\n",
       "  <thead>\n",
       "    <tr style=\"text-align: right;\">\n",
       "      <th></th>\n",
       "      <th>Parametro</th>\n",
       "      <th>Valor</th>\n",
       "      <th>Observaciones</th>\n",
       "    </tr>\n",
       "  </thead>\n",
       "  <tbody>\n",
       "    <tr>\n",
       "      <th>6</th>\n",
       "      <td>PathDestin</td>\n",
       "      <td>C:\\QVD\\Destino</td>\n",
       "      <td>Ruta local indicando ruta para guardar informa...</td>\n",
       "    </tr>\n",
       "  </tbody>\n",
       "</table>\n",
       "</div>"
      ],
      "text/plain": [
       "    Parametro           Valor  \\\n",
       "6  PathDestin  C:\\QVD\\Destino   \n",
       "\n",
       "                                       Observaciones  \n",
       "6  Ruta local indicando ruta para guardar informa...  "
      ]
     },
     "execution_count": 3,
     "metadata": {},
     "output_type": "execute_result"
    }
   ],
   "source": [
    "dfRuta = pd.read_excel(ruta, sheet_name=\"Ejecucion\")\n",
    "#Lee la hoja Ejexcución del EXCEL\n",
    "dfRutaCSV = dfRuta[dfRuta[\"Parametro\"].isin([\"PathPython\"])]\n",
    "#Busca en parametros el que contiene el PathPython\n",
    "dfRutaCSV1 = dfRuta[dfRuta[\"Parametro\"].isin([\"PathDestin\"])]\n",
    "dfRutaCSV = dfRutaCSV.reset_index()\n",
    "#Resetea los indices del dfRustas para facilitar la busqueda\n",
    "dfRutaCSV1\n"
   ]
  },
  {
   "cell_type": "markdown",
   "metadata": {},
   "source": [
    "-------- Ciclo for recorre el df datos en busca de las tablas a validar y lectura de qvd---------"
   ]
  },
  {
   "cell_type": "code",
   "execution_count": 4,
   "metadata": {},
   "outputs": [
    {
     "name": "stdout",
     "output_type": "stream",
     "text": [
      "dbo_OrderDetail\n",
      "C:\\QVD\\Destino\n"
     ]
    }
   ],
   "source": [
    "#Ciclo lee el dfDatos en busca de las tablas a validar\n",
    "#El nombre del qvd se guarda en la variable qvd\n",
    "for i in range(len(dfDatos)):\n",
    "    tabla = (dfDatos.iloc[i][\"Esquema\"]+\"_\"+dfDatos.iloc[i][\"Tabla\"])\n",
    "    pathCSV1 = (dfRutaCSV1.iloc[0][\"Valor\"]) \n",
    "    qvd = pathCSV1+ \"\\\\\"  +tabla +\".qvd\"    \n",
    "    print(tabla)\n",
    "    print(pathCSV1)\n",
    "    dfqvd = qvd_reader.read(qvd)"
   ]
  },
  {
   "cell_type": "markdown",
   "metadata": {},
   "source": [
    "----------Creacion de variables vacias que se llenaran con las validaciones de expresiones regulares----------"
   ]
  },
  {
   "cell_type": "code",
   "execution_count": 5,
   "metadata": {},
   "outputs": [],
   "source": [
    "#Variable conteo para guardar el resultado del Groupby\n",
    "dfqvd[\"ValoresValidacion\"] = \"\"\n",
    "#Creacion de variable esquema que va a contener tabla.campo\n",
    "dfqvd[\"Campo\"] = \"\""
   ]
  },
  {
   "cell_type": "markdown",
   "metadata": {},
   "source": [
    "----------Validación de expresión regular----------"
   ]
  },
  {
   "cell_type": "code",
   "execution_count": 6,
   "metadata": {},
   "outputs": [
    {
     "data": {
      "text/html": [
       "<div>\n",
       "<style scoped>\n",
       "    .dataframe tbody tr th:only-of-type {\n",
       "        vertical-align: middle;\n",
       "    }\n",
       "\n",
       "    .dataframe tbody tr th {\n",
       "        vertical-align: top;\n",
       "    }\n",
       "\n",
       "    .dataframe thead th {\n",
       "        text-align: right;\n",
       "    }\n",
       "</style>\n",
       "<table border=\"1\" class=\"dataframe\">\n",
       "  <thead>\n",
       "    <tr style=\"text-align: right;\">\n",
       "      <th></th>\n",
       "      <th>LlaveCompuestaD</th>\n",
       "      <th>SalesOrderDetailID</th>\n",
       "      <th>SalesOrderID</th>\n",
       "      <th>CarrierTrackingNumber</th>\n",
       "      <th>OrderQty</th>\n",
       "      <th>ProductID</th>\n",
       "      <th>SpecialOfferID</th>\n",
       "      <th>UnitPrice</th>\n",
       "      <th>UnitPriceDiscount</th>\n",
       "      <th>LineTotal</th>\n",
       "      <th>rowguid</th>\n",
       "      <th>ModifiedDate</th>\n",
       "      <th>ValoresValidacion</th>\n",
       "      <th>Campo</th>\n",
       "      <th>dbo_OrderDetail.CarrierTrackingNumber</th>\n",
       "    </tr>\n",
       "  </thead>\n",
       "  <tbody>\n",
       "    <tr>\n",
       "      <th>0</th>\n",
       "      <td>SalesOrderDetail|1|43659|1</td>\n",
       "      <td>1</td>\n",
       "      <td>43659</td>\n",
       "      <td>Valido</td>\n",
       "      <td>1</td>\n",
       "      <td>776</td>\n",
       "      <td>1</td>\n",
       "      <td>2024.994</td>\n",
       "      <td>0</td>\n",
       "      <td>2024.994</td>\n",
       "      <td>{B207C96D-D9E6-402B-8470-2CC176C42283}</td>\n",
       "      <td>40694</td>\n",
       "      <td></td>\n",
       "      <td></td>\n",
       "      <td>4911-403C-98</td>\n",
       "    </tr>\n",
       "    <tr>\n",
       "      <th>1</th>\n",
       "      <td>SalesOrderDetail|2|43659|1</td>\n",
       "      <td>2</td>\n",
       "      <td>43659</td>\n",
       "      <td>Valido</td>\n",
       "      <td>3</td>\n",
       "      <td>777</td>\n",
       "      <td>1</td>\n",
       "      <td>2024.994</td>\n",
       "      <td>0</td>\n",
       "      <td>6074.982</td>\n",
       "      <td>{7ABB600D-1E77-41BE-9FE5-B9142CFC08FA}</td>\n",
       "      <td>40694</td>\n",
       "      <td></td>\n",
       "      <td></td>\n",
       "      <td>4911-403C-98</td>\n",
       "    </tr>\n",
       "    <tr>\n",
       "      <th>2</th>\n",
       "      <td>SalesOrderDetail|3|43659|1</td>\n",
       "      <td>3</td>\n",
       "      <td>43659</td>\n",
       "      <td>Valido</td>\n",
       "      <td>1</td>\n",
       "      <td>778</td>\n",
       "      <td>1</td>\n",
       "      <td>2024.994</td>\n",
       "      <td>0</td>\n",
       "      <td>2024.994</td>\n",
       "      <td>{475CF8C6-49F6-486E-B0AD-AFC6A50CDD2F}</td>\n",
       "      <td>40694</td>\n",
       "      <td></td>\n",
       "      <td></td>\n",
       "      <td>4911-403C-98</td>\n",
       "    </tr>\n",
       "    <tr>\n",
       "      <th>3</th>\n",
       "      <td>SalesOrderDetail|4|43659|1</td>\n",
       "      <td>4</td>\n",
       "      <td>43659</td>\n",
       "      <td>Valido</td>\n",
       "      <td>1</td>\n",
       "      <td>771</td>\n",
       "      <td>1</td>\n",
       "      <td>2039.994</td>\n",
       "      <td>0</td>\n",
       "      <td>2039.994</td>\n",
       "      <td>{04C4DE91-5815-45D6-8670-F462719FBCE3}</td>\n",
       "      <td>40694</td>\n",
       "      <td></td>\n",
       "      <td></td>\n",
       "      <td>4911-403C-98</td>\n",
       "    </tr>\n",
       "    <tr>\n",
       "      <th>4</th>\n",
       "      <td>SalesOrderDetail|5|43659|1</td>\n",
       "      <td>5</td>\n",
       "      <td>43659</td>\n",
       "      <td>Valido</td>\n",
       "      <td>1</td>\n",
       "      <td>772</td>\n",
       "      <td>1</td>\n",
       "      <td>2039.994</td>\n",
       "      <td>0</td>\n",
       "      <td>2039.994</td>\n",
       "      <td>{5A74C7D2-E641-438E-A7AC-37BF23280301}</td>\n",
       "      <td>40694</td>\n",
       "      <td></td>\n",
       "      <td></td>\n",
       "      <td>4911-403C-98</td>\n",
       "    </tr>\n",
       "    <tr>\n",
       "      <th>...</th>\n",
       "      <td>...</td>\n",
       "      <td>...</td>\n",
       "      <td>...</td>\n",
       "      <td>...</td>\n",
       "      <td>...</td>\n",
       "      <td>...</td>\n",
       "      <td>...</td>\n",
       "      <td>...</td>\n",
       "      <td>...</td>\n",
       "      <td>...</td>\n",
       "      <td>...</td>\n",
       "      <td>...</td>\n",
       "      <td>...</td>\n",
       "      <td>...</td>\n",
       "      <td>...</td>\n",
       "    </tr>\n",
       "    <tr>\n",
       "      <th>995</th>\n",
       "      <td>SalesOrderDetail|996|43892|1</td>\n",
       "      <td>996</td>\n",
       "      <td>43892</td>\n",
       "      <td>Valido</td>\n",
       "      <td>2</td>\n",
       "      <td>765</td>\n",
       "      <td>1</td>\n",
       "      <td>419.4589</td>\n",
       "      <td>0</td>\n",
       "      <td>838.9178</td>\n",
       "      <td>{30EDDEA5-2C93-4F08-B66E-BFADB84AFF0E}</td>\n",
       "      <td>40725</td>\n",
       "      <td></td>\n",
       "      <td></td>\n",
       "      <td>0D3C-4E1F-9C</td>\n",
       "    </tr>\n",
       "    <tr>\n",
       "      <th>996</th>\n",
       "      <td>SalesOrderDetail|997|43893|1</td>\n",
       "      <td>997</td>\n",
       "      <td>43893</td>\n",
       "      <td>Valido</td>\n",
       "      <td>1</td>\n",
       "      <td>770</td>\n",
       "      <td>1</td>\n",
       "      <td>419.4589</td>\n",
       "      <td>0</td>\n",
       "      <td>419.4589</td>\n",
       "      <td>{46A1DA27-B11D-4918-8308-4B7715C12FB5}</td>\n",
       "      <td>40725</td>\n",
       "      <td></td>\n",
       "      <td></td>\n",
       "      <td>7C5D-46AA-A7</td>\n",
       "    </tr>\n",
       "    <tr>\n",
       "      <th>997</th>\n",
       "      <td>SalesOrderDetail|998|43894|1</td>\n",
       "      <td>998</td>\n",
       "      <td>43894</td>\n",
       "      <td>Valido</td>\n",
       "      <td>3</td>\n",
       "      <td>710</td>\n",
       "      <td>1</td>\n",
       "      <td>5.7</td>\n",
       "      <td>0</td>\n",
       "      <td>17.1</td>\n",
       "      <td>{6005BBFE-CD7C-45FD-80F7-DBBADB10BFEC}</td>\n",
       "      <td>40725</td>\n",
       "      <td></td>\n",
       "      <td></td>\n",
       "      <td>7DF2-4E54-B0</td>\n",
       "    </tr>\n",
       "    <tr>\n",
       "      <th>998</th>\n",
       "      <td>SalesOrderDetail|999|43894|1</td>\n",
       "      <td>999</td>\n",
       "      <td>43894</td>\n",
       "      <td>Valido</td>\n",
       "      <td>2</td>\n",
       "      <td>777</td>\n",
       "      <td>1</td>\n",
       "      <td>2024.994</td>\n",
       "      <td>0</td>\n",
       "      <td>4049.988</td>\n",
       "      <td>{03FF934E-043F-4CE7-8F44-18BFEE7EDBB7}</td>\n",
       "      <td>40725</td>\n",
       "      <td></td>\n",
       "      <td></td>\n",
       "      <td>7DF2-4E54-B0</td>\n",
       "    </tr>\n",
       "    <tr>\n",
       "      <th>999</th>\n",
       "      <td>SalesOrderDetail|1000|43894|1</td>\n",
       "      <td>1000</td>\n",
       "      <td>43894</td>\n",
       "      <td>Valido</td>\n",
       "      <td>3</td>\n",
       "      <td>775</td>\n",
       "      <td>1</td>\n",
       "      <td>2024.994</td>\n",
       "      <td>0</td>\n",
       "      <td>6074.982</td>\n",
       "      <td>{1EBF5ABC-DDFF-4EE0-8C21-F3DE78477319}</td>\n",
       "      <td>40725</td>\n",
       "      <td></td>\n",
       "      <td></td>\n",
       "      <td>7DF2-4E54-B0</td>\n",
       "    </tr>\n",
       "  </tbody>\n",
       "</table>\n",
       "<p>1000 rows × 15 columns</p>\n",
       "</div>"
      ],
      "text/plain": [
       "                   LlaveCompuestaD SalesOrderDetailID SalesOrderID  \\\n",
       "0       SalesOrderDetail|1|43659|1                  1        43659   \n",
       "1       SalesOrderDetail|2|43659|1                  2        43659   \n",
       "2       SalesOrderDetail|3|43659|1                  3        43659   \n",
       "3       SalesOrderDetail|4|43659|1                  4        43659   \n",
       "4       SalesOrderDetail|5|43659|1                  5        43659   \n",
       "..                             ...                ...          ...   \n",
       "995   SalesOrderDetail|996|43892|1                996        43892   \n",
       "996   SalesOrderDetail|997|43893|1                997        43893   \n",
       "997   SalesOrderDetail|998|43894|1                998        43894   \n",
       "998   SalesOrderDetail|999|43894|1                999        43894   \n",
       "999  SalesOrderDetail|1000|43894|1               1000        43894   \n",
       "\n",
       "    CarrierTrackingNumber OrderQty ProductID SpecialOfferID UnitPrice  \\\n",
       "0                  Valido        1       776              1  2024.994   \n",
       "1                  Valido        3       777              1  2024.994   \n",
       "2                  Valido        1       778              1  2024.994   \n",
       "3                  Valido        1       771              1  2039.994   \n",
       "4                  Valido        1       772              1  2039.994   \n",
       "..                    ...      ...       ...            ...       ...   \n",
       "995                Valido        2       765              1  419.4589   \n",
       "996                Valido        1       770              1  419.4589   \n",
       "997                Valido        3       710              1       5.7   \n",
       "998                Valido        2       777              1  2024.994   \n",
       "999                Valido        3       775              1  2024.994   \n",
       "\n",
       "    UnitPriceDiscount LineTotal                                 rowguid  \\\n",
       "0                   0  2024.994  {B207C96D-D9E6-402B-8470-2CC176C42283}   \n",
       "1                   0  6074.982  {7ABB600D-1E77-41BE-9FE5-B9142CFC08FA}   \n",
       "2                   0  2024.994  {475CF8C6-49F6-486E-B0AD-AFC6A50CDD2F}   \n",
       "3                   0  2039.994  {04C4DE91-5815-45D6-8670-F462719FBCE3}   \n",
       "4                   0  2039.994  {5A74C7D2-E641-438E-A7AC-37BF23280301}   \n",
       "..                ...       ...                                     ...   \n",
       "995                 0  838.9178  {30EDDEA5-2C93-4F08-B66E-BFADB84AFF0E}   \n",
       "996                 0  419.4589  {46A1DA27-B11D-4918-8308-4B7715C12FB5}   \n",
       "997                 0      17.1  {6005BBFE-CD7C-45FD-80F7-DBBADB10BFEC}   \n",
       "998                 0  4049.988  {03FF934E-043F-4CE7-8F44-18BFEE7EDBB7}   \n",
       "999                 0  6074.982  {1EBF5ABC-DDFF-4EE0-8C21-F3DE78477319}   \n",
       "\n",
       "    ModifiedDate ValoresValidacion Campo dbo_OrderDetail.CarrierTrackingNumber  \n",
       "0          40694                                                  4911-403C-98  \n",
       "1          40694                                                  4911-403C-98  \n",
       "2          40694                                                  4911-403C-98  \n",
       "3          40694                                                  4911-403C-98  \n",
       "4          40694                                                  4911-403C-98  \n",
       "..           ...               ...   ...                                   ...  \n",
       "995        40725                                                  0D3C-4E1F-9C  \n",
       "996        40725                                                  7C5D-46AA-A7  \n",
       "997        40725                                                  7DF2-4E54-B0  \n",
       "998        40725                                                  7DF2-4E54-B0  \n",
       "999        40725                                                  7DF2-4E54-B0  \n",
       "\n",
       "[1000 rows x 15 columns]"
      ]
     },
     "execution_count": 6,
     "metadata": {},
     "output_type": "execute_result"
    }
   ],
   "source": [
    "# Ciclo recorre el dfDatos y asigna a las variables campo, Formato y tabla el contenido de dfDatos para la validación\n",
    "listas1 =[]\n",
    "\n",
    "for i in range(len(dfDatos)):\n",
    "    campo = (dfDatos.iloc[i][\"Campo\"])\n",
    "    Formato = (dfDatos.iloc[i][\"Valores\"])\n",
    "    tabla = (dfDatos.iloc[i][\"Esquema\"]+\"_\"+dfDatos.iloc[i][\"Tabla\"])\n",
    "    dfqvd[tabla+\".\"+campo] = dfqvd[campo]\n",
    "    dfqvd = dfqvd.replace({campo: Formato},{campo:\"Valido\"}, regex=True)\n",
    "    tabla_campo = (dfDatos.iloc[i][\"Esquema\"]+\"_\"+dfDatos.iloc[i][\"Tabla\"]+\".\"+dfDatos.iloc[i][\"Campo\"])    \n",
    "    #Lleamos los valores nulos con \"No valido\"\n",
    "    dfqvd1 = dfqvd.fillna(\"Nulo\")\n",
    "    listas1.append([tabla_campo,campo])\n",
    "    #print(campo)\n",
    "    #print(Formato)\n",
    "    #print(tabla)\n",
    "    #print(listas1)\n",
    "dfqvd1\n",
    "\n"
   ]
  },
  {
   "cell_type": "markdown",
   "metadata": {},
   "source": [
    "----------Captura de tabla_campo y campo ----------"
   ]
  },
  {
   "cell_type": "code",
   "execution_count": 7,
   "metadata": {},
   "outputs": [
    {
     "data": {
      "text/plain": [
       "[['dbo_OrderDetail.CarrierTrackingNumber', 'CarrierTrackingNumber']]"
      ]
     },
     "execution_count": 7,
     "metadata": {},
     "output_type": "execute_result"
    }
   ],
   "source": [
    "listas1"
   ]
  },
  {
   "cell_type": "code",
   "execution_count": 8,
   "metadata": {},
   "outputs": [
    {
     "data": {
      "text/html": [
       "<div>\n",
       "<style scoped>\n",
       "    .dataframe tbody tr th:only-of-type {\n",
       "        vertical-align: middle;\n",
       "    }\n",
       "\n",
       "    .dataframe tbody tr th {\n",
       "        vertical-align: top;\n",
       "    }\n",
       "\n",
       "    .dataframe thead th {\n",
       "        text-align: right;\n",
       "    }\n",
       "</style>\n",
       "<table border=\"1\" class=\"dataframe\">\n",
       "  <thead>\n",
       "    <tr style=\"text-align: right;\">\n",
       "      <th></th>\n",
       "      <th>ValoresCampo</th>\n",
       "      <th>Cruza</th>\n",
       "    </tr>\n",
       "  </thead>\n",
       "  <tbody>\n",
       "    <tr>\n",
       "      <th>0</th>\n",
       "      <td>dbo_OrderDetail.CarrierTrackingNumber</td>\n",
       "      <td>CarrierTrackingNumber</td>\n",
       "    </tr>\n",
       "  </tbody>\n",
       "</table>\n",
       "</div>"
      ],
      "text/plain": [
       "                            ValoresCampo                  Cruza\n",
       "0  dbo_OrderDetail.CarrierTrackingNumber  CarrierTrackingNumber"
      ]
     },
     "execution_count": 8,
     "metadata": {},
     "output_type": "execute_result"
    }
   ],
   "source": [
    "campo_var = pd.DataFrame(listas1,columns=[\"ValoresCampo\",\"Cruza\"])\n",
    "campo_var"
   ]
  },
  {
   "cell_type": "markdown",
   "metadata": {},
   "source": [
    "----------Creacion un DataFrame que servirá como base para el .CSV final ----------"
   ]
  },
  {
   "cell_type": "code",
   "execution_count": 9,
   "metadata": {},
   "outputs": [
    {
     "data": {
      "text/html": [
       "<div>\n",
       "<style scoped>\n",
       "    .dataframe tbody tr th:only-of-type {\n",
       "        vertical-align: middle;\n",
       "    }\n",
       "\n",
       "    .dataframe tbody tr th {\n",
       "        vertical-align: top;\n",
       "    }\n",
       "\n",
       "    .dataframe thead th {\n",
       "        text-align: right;\n",
       "    }\n",
       "</style>\n",
       "<table border=\"1\" class=\"dataframe\">\n",
       "  <thead>\n",
       "    <tr style=\"text-align: right;\">\n",
       "      <th></th>\n",
       "      <th>Campo</th>\n",
       "      <th>ValoresCampo</th>\n",
       "      <th>Cruza</th>\n",
       "      <th>ValoresValidacion</th>\n",
       "    </tr>\n",
       "  </thead>\n",
       "  <tbody>\n",
       "  </tbody>\n",
       "</table>\n",
       "</div>"
      ],
      "text/plain": [
       "Empty DataFrame\n",
       "Columns: [Campo, ValoresCampo, Cruza, ValoresValidacion]\n",
       "Index: []"
      ]
     },
     "execution_count": 9,
     "metadata": {},
     "output_type": "execute_result"
    }
   ],
   "source": [
    "dfGroup=pd.DataFrame({\"Campo\":[],\"ValoresCampo\":[],\"Cruza\":[],\"ValoresValidacion\":[]})\n",
    "dfGroup"
   ]
  },
  {
   "cell_type": "markdown",
   "metadata": {},
   "source": [
    "----------Funcion creada para dar como no validas los registros que no cumplen con la extresion regular----------"
   ]
  },
  {
   "cell_type": "code",
   "execution_count": 10,
   "metadata": {},
   "outputs": [],
   "source": [
    "def asd (a):\n",
    "    if a != \"Valido\":\n",
    "        return(\"No valido\")\n",
    "    else:\n",
    "        return(a)"
   ]
  },
  {
   "cell_type": "markdown",
   "metadata": {},
   "source": [
    "----------Ciclo for en el que se agrupan por Campo, ValoresCampo Cruza y ValoresValidacion y se concatenan los resultados de cada formato requerido----------"
   ]
  },
  {
   "cell_type": "code",
   "execution_count": 11,
   "metadata": {},
   "outputs": [
    {
     "data": {
      "text/html": [
       "<div>\n",
       "<style scoped>\n",
       "    .dataframe tbody tr th:only-of-type {\n",
       "        vertical-align: middle;\n",
       "    }\n",
       "\n",
       "    .dataframe tbody tr th {\n",
       "        vertical-align: top;\n",
       "    }\n",
       "\n",
       "    .dataframe thead th {\n",
       "        text-align: right;\n",
       "    }\n",
       "</style>\n",
       "<table border=\"1\" class=\"dataframe\">\n",
       "  <thead>\n",
       "    <tr style=\"text-align: right;\">\n",
       "      <th></th>\n",
       "      <th>Campo</th>\n",
       "      <th>ValoresCampo</th>\n",
       "      <th>Cruza</th>\n",
       "      <th>ValoresValidacion</th>\n",
       "    </tr>\n",
       "  </thead>\n",
       "  <tbody>\n",
       "    <tr>\n",
       "      <th>0</th>\n",
       "      <td>dbo_OrderDetail.CarrierTrackingNumber</td>\n",
       "      <td>01F1-4AD5-A5</td>\n",
       "      <td>Valido</td>\n",
       "      <td>14.0</td>\n",
       "    </tr>\n",
       "    <tr>\n",
       "      <th>1</th>\n",
       "      <td>dbo_OrderDetail.CarrierTrackingNumber</td>\n",
       "      <td>061F-4449-BE</td>\n",
       "      <td>Valido</td>\n",
       "      <td>18.0</td>\n",
       "    </tr>\n",
       "    <tr>\n",
       "      <th>2</th>\n",
       "      <td>dbo_OrderDetail.CarrierTrackingNumber</td>\n",
       "      <td>071C-4913-89</td>\n",
       "      <td>Valido</td>\n",
       "      <td>14.0</td>\n",
       "    </tr>\n",
       "    <tr>\n",
       "      <th>3</th>\n",
       "      <td>dbo_OrderDetail.CarrierTrackingNumber</td>\n",
       "      <td>0CC0-4166-9E</td>\n",
       "      <td>Valido</td>\n",
       "      <td>27.0</td>\n",
       "    </tr>\n",
       "    <tr>\n",
       "      <th>4</th>\n",
       "      <td>dbo_OrderDetail.CarrierTrackingNumber</td>\n",
       "      <td>0CD4-4091-9B</td>\n",
       "      <td>Valido</td>\n",
       "      <td>14.0</td>\n",
       "    </tr>\n",
       "    <tr>\n",
       "      <th>...</th>\n",
       "      <td>...</td>\n",
       "      <td>...</td>\n",
       "      <td>...</td>\n",
       "      <td>...</td>\n",
       "    </tr>\n",
       "    <tr>\n",
       "      <th>87</th>\n",
       "      <td>dbo_OrderDetail.CarrierTrackingNumber</td>\n",
       "      <td>FBD0-4F71-80</td>\n",
       "      <td>Valido</td>\n",
       "      <td>3.0</td>\n",
       "    </tr>\n",
       "    <tr>\n",
       "      <th>88</th>\n",
       "      <td>dbo_OrderDetail.CarrierTrackingNumber</td>\n",
       "      <td>FBD8-4CE4-8B</td>\n",
       "      <td>Valido</td>\n",
       "      <td>19.0</td>\n",
       "    </tr>\n",
       "    <tr>\n",
       "      <th>89</th>\n",
       "      <td>dbo_OrderDetail.CarrierTrackingNumber</td>\n",
       "      <td>FC28-4F00-A9</td>\n",
       "      <td>Valido</td>\n",
       "      <td>2.0</td>\n",
       "    </tr>\n",
       "    <tr>\n",
       "      <th>90</th>\n",
       "      <td>dbo_OrderDetail.CarrierTrackingNumber</td>\n",
       "      <td>FF1F-4DD0-98</td>\n",
       "      <td>Valido</td>\n",
       "      <td>15.0</td>\n",
       "    </tr>\n",
       "    <tr>\n",
       "      <th>91</th>\n",
       "      <td>dbo_OrderDetail.CarrierTrackingNumber</td>\n",
       "      <td></td>\n",
       "      <td>No valido</td>\n",
       "      <td>146.0</td>\n",
       "    </tr>\n",
       "  </tbody>\n",
       "</table>\n",
       "<p>92 rows × 4 columns</p>\n",
       "</div>"
      ],
      "text/plain": [
       "                                    Campo  ValoresCampo      Cruza  \\\n",
       "0   dbo_OrderDetail.CarrierTrackingNumber  01F1-4AD5-A5     Valido   \n",
       "1   dbo_OrderDetail.CarrierTrackingNumber  061F-4449-BE     Valido   \n",
       "2   dbo_OrderDetail.CarrierTrackingNumber  071C-4913-89     Valido   \n",
       "3   dbo_OrderDetail.CarrierTrackingNumber  0CC0-4166-9E     Valido   \n",
       "4   dbo_OrderDetail.CarrierTrackingNumber  0CD4-4091-9B     Valido   \n",
       "..                                    ...           ...        ...   \n",
       "87  dbo_OrderDetail.CarrierTrackingNumber  FBD0-4F71-80     Valido   \n",
       "88  dbo_OrderDetail.CarrierTrackingNumber  FBD8-4CE4-8B     Valido   \n",
       "89  dbo_OrderDetail.CarrierTrackingNumber  FC28-4F00-A9     Valido   \n",
       "90  dbo_OrderDetail.CarrierTrackingNumber  FF1F-4DD0-98     Valido   \n",
       "91  dbo_OrderDetail.CarrierTrackingNumber                No valido   \n",
       "\n",
       "    ValoresValidacion  \n",
       "0                14.0  \n",
       "1                18.0  \n",
       "2                14.0  \n",
       "3                27.0  \n",
       "4                14.0  \n",
       "..                ...  \n",
       "87                3.0  \n",
       "88               19.0  \n",
       "89                2.0  \n",
       "90               15.0  \n",
       "91              146.0  \n",
       "\n",
       "[92 rows x 4 columns]"
      ]
     },
     "execution_count": 11,
     "metadata": {},
     "output_type": "execute_result"
    }
   ],
   "source": [
    "for i in range(len(dfDatos)):\n",
    "    dfGroup11 = dfqvd1.groupby([\"Campo\",campo_var.iloc[i][\"ValoresCampo\"] ,campo_var.iloc[i][\"Cruza\"] ],as_index= False).agg({\"ValoresValidacion\":\"count\"})\n",
    "    dfGroup11.rename(columns={\"Campo\":\"Campo\",campo_var.iloc[i][\"ValoresCampo\"]:\"ValoresCampo\",campo_var.iloc[i][\"Cruza\"]:\"Cruza\",\"ValoresValidacion\":\"ValoresValidacion\"},inplace= True )\n",
    "    dfGroup11[\"Campo\"] = campo_var.iloc[i][\"ValoresCampo\"]   \n",
    "    dfGroup = pd.concat([dfGroup,dfGroup11],axis=0)\n",
    "    dfGroup[\"ValoresCampo\"] = dfGroup[\"ValoresCampo\"].replace(\"Nulo\",\"\")\n",
    "    dfGroup[\"Cruza\"] = dfGroup[\"Cruza\"].apply(lambda a: asd(a))\n",
    "    #dfGroup[\"ValoresValidacion\"] = int(dfGroup[\"ValoresValidacion\"])\n",
    "dfGroup"
   ]
  },
  {
   "cell_type": "markdown",
   "metadata": {},
   "source": [
    "----------Exportar a csv----------"
   ]
  },
  {
   "cell_type": "code",
   "execution_count": 12,
   "metadata": {},
   "outputs": [],
   "source": [
    "pathCSV = (dfRutaCSV.iloc[0][\"Valor\"]) \n",
    "pathCSV = pathCSV + \"\\\\\"  +tabla + \".csv\"\n",
    "#print(pathCSV)"
   ]
  },
  {
   "cell_type": "code",
   "execution_count": 13,
   "metadata": {},
   "outputs": [],
   "source": [
    "dfGroup.to_csv(pathCSV, index=False)"
   ]
  },
  {
   "cell_type": "markdown",
   "metadata": {},
   "source": [
    "----------Mensaje final----------"
   ]
  },
  {
   "cell_type": "code",
   "execution_count": 14,
   "metadata": {},
   "outputs": [
    {
     "name": "stdout",
     "output_type": "stream",
     "text": [
      "Archivo exportado, revisar ruta  C:\\QVD\\Python\\dbo_OrderDetail.csv\n"
     ]
    }
   ],
   "source": [
    "print(\"Archivo exportado, revisar ruta  \" + pathCSV)"
   ]
  },
  {
   "cell_type": "code",
   "execution_count": null,
   "metadata": {},
   "outputs": [],
   "source": []
  }
 ],
 "metadata": {
  "kernelspec": {
   "display_name": "Python 3 (ipykernel)",
   "language": "python",
   "name": "python3"
  },
  "language_info": {
   "codemirror_mode": {
    "name": "ipython",
    "version": 3
   },
   "file_extension": ".py",
   "mimetype": "text/x-python",
   "name": "python",
   "nbconvert_exporter": "python",
   "pygments_lexer": "ipython3",
   "version": "3.11.1"
  },
  "vscode": {
   "interpreter": {
    "hash": "cbb8571fc1afd8b129c6653f29ccc9e073bd3124a25dafc57953f8ff44e46e36"
   }
  }
 },
 "nbformat": 4,
 "nbformat_minor": 4
}
